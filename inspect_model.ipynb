{
 "cells": [
  {
   "cell_type": "code",
   "execution_count": 46,
   "metadata": {},
   "outputs": [],
   "source": [
    "import torch\n",
    "import torch.nn as nn\n",
    "from models.nerf import NeRF\n",
    "from models.pose import CWT\n",
    "import numpy as np\n",
    "import glob\n",
    "import imageio\n",
    "from tqdm.notebook import tqdm\n",
    "import pandas as pd\n",
    "import seaborn as sns\n",
    "from matplotlib import pylab as plt"
   ]
  },
  {
   "cell_type": "code",
   "execution_count": 47,
   "metadata": {},
   "outputs": [],
   "source": [
    "# Set up device\n",
    "device = \"cuda\"\n",
    "\n",
    "# Load dataset\n",
    "data = np.load('tiny_nerf_data.npz')\n",
    "\n",
    "images = torch.from_numpy(data['images']).to(device)\n",
    "poses = torch.from_numpy(data['poses']).to(device)\n",
    "focal = float(data['focal'])\n",
    "\n",
    "height, width = images.shape[1:3]\n",
    "near, far = 2., 6.\n",
    "\n",
    "n_training = 100\n",
    "testimg_idx = 101\n",
    "testimg, testpose = images[testimg_idx], poses[testimg_idx]"
   ]
  },
  {
   "cell_type": "code",
   "execution_count": 48,
   "metadata": {},
   "outputs": [],
   "source": [
    "# Number samples to render\n",
    "Ns = 60 "
   ]
  },
  {
   "cell_type": "code",
   "execution_count": 49,
   "metadata": {},
   "outputs": [
    {
     "name": "stdout",
     "output_type": "stream",
     "text": [
      "Inspecting model ./logs/c595c637-2a28-4ea0-b292-2f75f292397b/09990.npy.\n",
      "Inspecting model ./logs/ccbf555f-95f7-4df5-a1d9-2b23da745e7f/09990.npy.\n",
      "Inspecting model ./logs/d2d01a67-012c-4033-b54f-bcb60eefec61/09990.npy.\n",
      "Inspecting model ./logs/fc9de378-b240-48ac-b21c-67f8c007f224/09990.npy.\n",
      "Inspecting model ./logs/9992ad3f-655f-4452-abe4-030da1b61236/09990.npy.\n",
      "Inspecting model ./logs/9e89c41a-569f-4f7a-9c9e-464c169d40f0/09990.npy.\n",
      "Inspecting model ./logs/23c55ddf-7cba-40ca-963c-7f979de68db3/09990.npy.\n",
      "Inspecting model ./logs/4c867134-fe29-43b5-a9e4-f8d98c321dda/09990.npy.\n"
     ]
    }
   ],
   "source": [
    "pose_spherical = CWT().to(device)\n",
    "\n",
    "height = 100\n",
    "width = 100\n",
    "\n",
    "paths = glob.glob('./logs/*')\n",
    "model_list = []\n",
    "\n",
    "rows_list = []\n",
    "for p in paths:\n",
    "\n",
    "    df = pd.read_csv(p+'/parameters.csv',header=None)\n",
    "    df.head()\n",
    "    params = dict(zip(df[0].values,df[1].values))\n",
    "\n",
    "    if params['bq'] == 'BQ':\n",
    "        # Initialise renderer\n",
    "        renderer = NeRF(d_input=3, n_layers=8, d_filter=256, skip=(4,),log_space=False,n_freqs_views=4, n_freqs=10,bq=True,chunksize=4096,nsamples=Ns)\n",
    "    else:\n",
    "        renderer = NeRF(d_input=3, n_layers=8, d_filter=256, skip=(4,),log_space=False,n_freqs_views=4, n_freqs=10,bq=False,chunksize=4096,nsamples=Ns)\n",
    "\n",
    "    renderer.to(device)\n",
    "    \n",
    "    models = (glob.glob(p+'/*.npy'))\n",
    "    models.sort()\n",
    "    model_list.append(models[-1])\n",
    "\n",
    "    renderer.load_state_dict(torch.load(models[-1]))\n",
    "\n",
    "    print (\"Inspecting model %s.\"%models[-1])\n",
    "\n",
    "    # Export rendered sequence to a video \n",
    "    renderer.eval()\n",
    "    \n",
    "    frames = []\n",
    "    for th in tqdm(np.linspace(0., 360., 100, endpoint=False)):\n",
    "        c2w = pose_spherical(3, -30., th).to(device)\n",
    "\n",
    "        img, depth_map, acc_map, weights,_ = renderer.render(height,width,focal,c2w)\n",
    "        \n",
    "        img = np.clip(img.detach().cpu(),0,1).reshape([height, width, 3])\n",
    "        \n",
    "        frames.append((255*img.numpy()).astype(np.uint8))\n",
    "    param_dump = ('_').join([(k+'_'+v) for k,v in zip(params.keys(),params.values())]).replace('/','').replace('.','')\n",
    "    f = '/tmp/'+p.split('/')[-1]+param_dump+'_video.mp4'\n",
    "    imageio.mimwrite(f, frames, fps=30, quality=7)\n",
    "\n",
    "    img, depth_map, acc_map, weights,uncertainty = renderer.render(height,width,focal,testpose)\n",
    "    val_psnr = -10.*torch.log10(torch.nn.functional.mse_loss(torch.clip(img.reshape(100, 100, 3),0,1), testimg)).detach().cpu().numpy()\n",
    "\n",
    "    params.update({'PSNR':val_psnr})\n",
    "    rows_list.append(params)\n",
    "    torch.cuda.empty_cache()"
   ]
  },
  {
   "cell_type": "code",
   "execution_count": 50,
   "metadata": {},
   "outputs": [
    {
     "data": {
      "image/png": "[encoded data removed]",
      "text/plain": [
       "<Figure size 432x288 with 1 Axes>"
      ]
     },
     "metadata": {},
     "output_type": "display_data"
    }
   ],
   "source": [
    "df = pd.DataFrame(rows_list)\n",
    "df = df.rename(columns={'nsamples':'Number training samples','bq':'Quadrature'})\n",
    "sns.set_style(\"darkgrid\")\n",
    "ax = sns.barplot(data=df.sort_values('Number training samples'),y='PSNR',x='Number training samples',hue='Quadrature')\n",
    "sns.move_legend(ax, \"upper left\", bbox_to_anchor=(1, 1))\n",
    "ax.set_title('PSNR on a single test image (Ns=%d)'%Ns)\n",
    "plt.ylim(0,30)\n",
    "plt.tight_layout()\n",
    "plt.savefig('./figs/Ns_%d.png'%Ns)"
   ]
  }
 ],
 "metadata": {
  "kernelspec": {
   "display_name": "Python 3.8.10 64-bit",
   "language": "python",
   "name": "python3"
  },
  "language_info": {
   "codemirror_mode": {
    "name": "ipython",
    "version": 3
   },
   "file_extension": ".py",
   "mimetype": "text/x-python",
   "name": "python",
   "nbconvert_exporter": "python",
   "pygments_lexer": "ipython3",
   "version": "3.8.10"
  },
  "orig_nbformat": 4,
  "vscode": {
   "interpreter": {
    "hash": "916dbcbb3f70747c44a77c7bcd40155683ae19c65e1c03b4aa3499c5328201f1"
   }
  }
 },
 "nbformat": 4,
 "nbformat_minor": 2
}
